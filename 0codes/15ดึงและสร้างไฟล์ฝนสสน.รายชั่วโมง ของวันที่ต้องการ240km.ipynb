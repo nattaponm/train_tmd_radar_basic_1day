{
 "cells": [
  {
   "cell_type": "markdown",
   "id": "02d0e7b4-bcdf-4cf3-bd1d-39a975a503e5",
   "metadata": {},
   "source": [
    "# ดึงและสร้างไฟล์ฝนสสน.รายชั่วโมง ของวันที่ต้องการ\n"
   ]
  },
  {
   "cell_type": "code",
   "execution_count": 1,
   "id": "69013a1a-d097-40fd-bf91-815a73158260",
   "metadata": {},
   "outputs": [
    {
     "data": {
      "text/plain": [
       "'\\n2024/01/09 \\nพัฒนาโค้ดโดย รศ.ดร.นัฐพล มหาวิค \\nemail:nattaponm@nu.ac.th \\nยูทูป:https://www.youtube.com/@Nattapon_Mahavik/playlists \\nหนังสือ: เรดาร์ตรวจอากาศทางอุตุนิยมวิทยา https://www.chulabook.com/education/144567\\nGithub: https://github.com/nattaponm\\nScopus: https://www.scopus.com/authid/detail.uri?authorId=55583236600\\n'"
      ]
     },
     "execution_count": 1,
     "metadata": {},
     "output_type": "execute_result"
    }
   ],
   "source": [
    "'''\n",
    "2024/01/09 \n",
    "พัฒนาโค้ดโดย รศ.ดร.นัฐพล มหาวิค \n",
    "email:nattaponm@nu.ac.th \n",
    "ยูทูป:https://www.youtube.com/@Nattapon_Mahavik/playlists \n",
    "หนังสือ: เรดาร์ตรวจอากาศทางอุตุนิยมวิทยา https://www.chulabook.com/education/144567\n",
    "Github: https://github.com/nattaponm\n",
    "Scopus: https://www.scopus.com/authid/detail.uri?authorId=55583236600\n",
    "'''"
   ]
  },
  {
   "cell_type": "code",
   "execution_count": 2,
   "id": "25fb46b2-c673-41d6-9f00-c20261ddb450",
   "metadata": {},
   "outputs": [],
   "source": [
    "import requests, os\n",
    "import pandas as pd\n",
    "import numpy as np\n",
    "\n",
    "from math import radians, cos, sin, asin, sqrt\n",
    "\n",
    "from datetime import datetime\n",
    "from dateutil.relativedelta import relativedelta\n",
    "from dateutil import rrule\n",
    "\n",
    "from pathlib import Path\n",
    "\n",
    "import seaborn as sns\n",
    "import matplotlib.pyplot as plt  \n",
    "%matplotlib inline "
   ]
  },
  {
   "cell_type": "markdown",
   "id": "89b99729-316e-46ae-a60d-ac1ddd5acaa6",
   "metadata": {},
   "source": [
    "## ฟังก์ชั่นดึงข้อมูลฝนจากสสน."
   ]
  },
  {
   "cell_type": "code",
   "execution_count": 3,
   "id": "3dc293f2-f5d1-4d59-8499-96b0aab5d824",
   "metadata": {},
   "outputs": [],
   "source": [
    "# ฟังก์ชั่นดึงข้อมูลฝนจากสสน.\n",
    "#คำสั่งนี้ใช้เรียกปริมาณน้ำฝนแบบรายวันจาก URL ของสถาบันสารสนเทศทรัพยากรน้ำ (องค์การมหาชน)\n",
    "def get_rainfall_hii(df_filter, start, end):\n",
    "  url_source = 'https://tiservice.hii.or.th/opendata/data_catalog/hourly_rain/'\n",
    "  path_output = '../2results/0rain_haii_hour_test/0rain_hourly/' #ต้องสร้างโฟลเดอร์เก็บก่อน\n",
    "\n",
    "  #date_start = datetime.strptime(start + '-01', '%Y-%m-%d')\n",
    "  #date_end = datetime.strptime(end + '-01', '%Y-%m-%d')\n",
    "\n",
    "  date_start = datetime.strptime(start, '%Y-%m-%d')\n",
    "  date_end = datetime.strptime(end, '%Y-%m-%d')\n",
    "\n",
    "  condition = rrule.rrule(rrule.MONTHLY, dtstart=date_start, until=date_end)\n",
    "  total_process = condition.count()\n",
    "  i = 1\n",
    "\n",
    "  for date in condition:\n",
    "    print('========== Start process (' + str(i) + '/' + str(total_process) + '): ' + date.strftime('%Y-%m') + ' ==========')\n",
    "    year = date.strftime('%Y')\n",
    "    month = date.strftime('%m')\n",
    "\n",
    "    path = path_output + year + '/' + month\n",
    "    Path(path).mkdir(parents=True, exist_ok=True)\n",
    "\n",
    "    for code in df_filter['code']:\n",
    "      # print(code)\n",
    "\n",
    "      url = url_source + year + '/' + year + month + '/' + code.strip() + '.csv'\n",
    "\n",
    "      # Download and save file\n",
    "      result = requests.get(url)\n",
    "      if result.status_code == 200:\n",
    "        file_path = Path(path + '/' + code.strip() + '.csv')\n",
    "        file_path.write_bytes(result.content)\n",
    "        # print('Downloaded: ' + year + '/' + month + '/' + code.strip())\n",
    "      else:\n",
    "        print('Failed: '  + year + '/' + month + '/' + code.strip())\n",
    "    i += 1"
   ]
  },
  {
   "cell_type": "markdown",
   "id": "7bf518b1-2b3c-410b-950d-f5c99315217b",
   "metadata": {},
   "source": [
    "# จัดการข้อมูลฝนสสน."
   ]
  },
  {
   "cell_type": "markdown",
   "id": "8db8e460-408e-4620-9e6f-6ede1c4ef066",
   "metadata": {},
   "source": [
    "## ดึงข้อมูลฝนรายชั่วโมงของเดือนที่ต้องการ ที่ตกอยู่ในสถานีในเรดาร์ มาเก็บไว้เป็นไฟล์แยกสถานีก่อน"
   ]
  },
  {
   "cell_type": "code",
   "execution_count": 4,
   "id": "a661f961-35c5-40fd-b5f8-3c23c8236ffe",
   "metadata": {},
   "outputs": [
    {
     "name": "stdout",
     "output_type": "stream",
     "text": [
      "========== Start process (1/1): 2018-07 ==========\n",
      "Failed: 2018/07/ATG132\n",
      "Failed: 2018/07/ATG181\n",
      "Failed: 2018/07/ATG182\n",
      "Failed: 2018/07/ATG121\n",
      "Failed: 2018/07/ATG042\n",
      "Failed: 2018/07/ATG131\n",
      "Failed: 2018/07/ATG162\n",
      "Failed: 2018/07/ATG161\n",
      "Failed: 2018/07/ATG151\n",
      "Failed: 2018/07/ATG122\n",
      "Failed: 2018/07/ATG021\n",
      "Failed: 2018/07/ATG112\n",
      "Failed: 2018/07/ATG152\n",
      "Failed: 2018/07/ATG011\n",
      "Failed: 2018/07/ATG111\n",
      "Failed: 2018/07/ATG032\n",
      "Failed: 2018/07/ATG031\n",
      "Failed: 2018/07/FOP016\n",
      "Failed: 2018/07/FOP056\n",
      "Failed: 2018/07/FOP020\n",
      "Failed: 2018/07/FOP021\n",
      "Failed: 2018/07/FOP055\n",
      "Failed: 2018/07/FOP019\n",
      "Failed: 2018/07/FOP022\n",
      "Failed: 2018/07/VLGE49\n",
      "Failed: 2018/07/VLGE45\n",
      "Failed: 2018/07/CHK001\n",
      "Failed: 2018/07/KWN003\n",
      "Failed: 2018/07/CHK002\n"
     ]
    }
   ],
   "source": [
    "# อ่านสถานีวัดฝนที่ตกอยู่ในเรดาร์พิษณุโลก\n",
    "df_pl = pd.read_csv('../2results/GaugeInBuffer_radar_phitsanulok.csv', encoding=\"TIS-620\")\n",
    "station_pl = df_pl['code']\n",
    "#station_pl\n",
    "\n",
    "# เรียก Station ของสสน.จาก URL \n",
    "df_hii = pd.read_csv('https://tiservice.hii.or.th/opendata/data_catalog/daily_rain/station_metadata.csv')\n",
    "#df_hii.head()\n",
    "\n",
    "#เรียกข้อมูลสถานีที่อยู่ภายใต้เรดาร์พิษณุโลกจากสถานีทั้งหมดของสสน.\n",
    "# Strip whitespace in Column Code\n",
    "df_hii['code'] = df_hii['code'].str.strip()\n",
    "# Filter the DataFrame based on the list of stations\n",
    "df_filter = df_hii[df_hii['code'].isin(station_pl.str.strip())]\n",
    "#df_filter\n",
    "\n",
    "\n",
    "# กำหนดปีเดือนเริ่มต้นและวันที่สิ้นสุดที่ต้องการดึงข้อมูล\n",
    "start = '2018-07-21'\n",
    "end = '2018-07-21'\n",
    "\n",
    "# เรียกฟังก์ชั่นดึงข้อมูลจาก hii\n",
    "get_rainfall_hii(df_filter, start, end)"
   ]
  },
  {
   "cell_type": "markdown",
   "id": "dca1f745-79ae-4767-9450-e805100475ad",
   "metadata": {},
   "source": [
    "## จัดการฝนสสน.ที่ดาวน์โหลดมา ให้อยู่ในลิสต์เดียวกัน"
   ]
  },
  {
   "cell_type": "code",
   "execution_count": 5,
   "id": "d6d68fd7-0c06-41a1-994f-cf66ba714abf",
   "metadata": {},
   "outputs": [],
   "source": [
    "path_output = '../2results/0rain_haii_hour_test/0rain_hourly/'\n",
    "#date_start = datetime.strptime(start + '-01', '%Y-%m-%d')\n",
    "#date_end = datetime.strptime(end + '-01', '%Y-%m-%d')\n",
    "date_start = datetime.strptime(start, '%Y-%m-%d')\n",
    "date_end = datetime.strptime(end, '%Y-%m-%d')\n",
    "\n",
    "\n",
    "condition = rrule.rrule(rrule.MONTHLY, dtstart=date_start, until=date_end)\n",
    "\n",
    "prec = [] #รวมฝนสถานีที่ดาวน์โหลดมาไว้ในลิสต์นี้\n",
    "\n",
    "for date in condition:\n",
    "  year = date.strftime('%Y')\n",
    "  month = date.strftime('%m')\n",
    "\n",
    "  target = path_output + year + '/' + month + '/'\n",
    "\n",
    "  for filename in os.listdir(target):\n",
    "    station = filename.split('.')[0]\n",
    "    df = pd.read_csv(target + filename)\n",
    "    df['station'] = station\n",
    "    prec.append(df)\n",
    "\n",
    "#ผลที่ได้คือ ฝนรายชั่วโมงของแต่ละสถานีในเดือนนั้น ๆ "
   ]
  },
  {
   "cell_type": "code",
   "execution_count": 6,
   "id": "96278db8-f332-4451-a4c0-09de3f599b47",
   "metadata": {},
   "outputs": [],
   "source": [
    "#prec[:1]"
   ]
  },
  {
   "cell_type": "markdown",
   "id": "901afea0-e2ff-4c4a-82c4-cd58b70b4c16",
   "metadata": {},
   "source": [
    "# ดึงฝนเฉพาะวันและชั่วโมงที่ต้องการมาใช้งาน"
   ]
  },
  {
   "cell_type": "markdown",
   "id": "9be2ee1b-4d61-4f9c-9681-697416dc4949",
   "metadata": {},
   "source": [
    "## จัดข้อมูลฝนให้อยู่ใน dataframe เดียวกัน ดึงเฉพาะคอลัมน์ที่สนใจ"
   ]
  },
  {
   "cell_type": "code",
   "execution_count": 7,
   "id": "2e503c38-59b3-45db-88f0-702e6edd33cf",
   "metadata": {},
   "outputs": [],
   "source": [
    "prec_pd=pd.concat(prec).reset_index(drop=False)\n",
    "# get columns using dataframe subsetting\n",
    "rain_subset = prec_pd[['date','time', 'rain', 'station']]\n",
    "rain_subset['full_date']=rain_subset['date'].map(str)+'-'+rain_subset['time'].map(str)\n",
    "\n",
    "#rain_subset\n",
    "#ผลลัพธ์จะได้ฝนรายชั่วโมงที่อยู่ใน dataframe เดียวกันของเดือนนั้น ๆ แล้วค่อยไปดึงเฉพาะชั่วโมงของวันที่ต้องการจาก full_date"
   ]
  },
  {
   "cell_type": "markdown",
   "id": "5ed5a486-c855-4357-bd2d-0475e1a57c27",
   "metadata": {},
   "source": [
    "## ดึงฝนแต่ละชั่วโมงในวันที่ต้องการ แล้วส่งออกเป็น csv ในโฟลเดอร์ผลลัพธ์"
   ]
  },
  {
   "cell_type": "code",
   "execution_count": 8,
   "id": "c8c05f5a-5545-4683-a497-8f83459bfd00",
   "metadata": {},
   "outputs": [
    {
     "name": "stdout",
     "output_type": "stream",
     "text": [
      "2018-07-21-00:00>>>\n",
      "2018-07-21-01:00>>>\n",
      "2018-07-21-02:00>>>\n",
      "2018-07-21-03:00>>>\n",
      "2018-07-21-04:00>>>\n",
      "2018-07-21-05:00>>>\n",
      "2018-07-21-06:00>>>\n",
      "2018-07-21-07:00>>>\n",
      "2018-07-21-08:00>>>\n",
      "2018-07-21-09:00>>>\n",
      "2018-07-21-10:00>>>\n",
      "2018-07-21-11:00>>>\n",
      "2018-07-21-12:00>>>\n",
      "2018-07-21-13:00>>>\n",
      "2018-07-21-14:00>>>\n",
      "2018-07-21-15:00>>>\n",
      "2018-07-21-16:00>>>\n",
      "2018-07-21-17:00>>>\n",
      "2018-07-21-18:00>>>\n",
      "2018-07-21-19:00>>>\n",
      "2018-07-21-20:00>>>\n",
      "2018-07-21-21:00>>>\n",
      "2018-07-21-22:00>>>\n",
      "2018-07-21-23:00>>>\n",
      "2018-07-22-00:00>>>\n",
      "2018-07-22-01:00>>>\n",
      "2018-07-22-02:00>>>\n",
      "2018-07-22-03:00>>>\n",
      "2018-07-22-04:00>>>\n",
      "2018-07-22-05:00>>>\n",
      "2018-07-22-06:00>>>\n",
      "2018-07-22-07:00>>>\n",
      "2018-07-22-08:00>>>\n",
      "2018-07-22-09:00>>>\n",
      "2018-07-22-10:00>>>\n",
      "2018-07-22-11:00>>>\n",
      "2018-07-22-12:00>>>\n",
      "2018-07-22-13:00>>>\n",
      "2018-07-22-14:00>>>\n",
      "2018-07-22-15:00>>>\n",
      "2018-07-22-16:00>>>\n",
      "2018-07-22-17:00>>>\n",
      "2018-07-22-18:00>>>\n",
      "2018-07-22-19:00>>>\n",
      "2018-07-22-20:00>>>\n",
      "2018-07-22-21:00>>>\n",
      "2018-07-22-22:00>>>\n",
      "2018-07-22-23:00>>>\n",
      "2018-07-23-00:00>>>\n",
      "2018-07-23-01:00>>>\n",
      "2018-07-23-02:00>>>\n",
      "2018-07-23-03:00>>>\n",
      "2018-07-23-04:00>>>\n",
      "2018-07-23-05:00>>>\n",
      "2018-07-23-06:00>>>\n",
      "2018-07-23-07:00>>>\n",
      "2018-07-23-08:00>>>\n",
      "2018-07-23-09:00>>>\n",
      "2018-07-23-10:00>>>\n",
      "2018-07-23-11:00>>>\n",
      "2018-07-23-12:00>>>\n",
      "2018-07-23-13:00>>>\n",
      "2018-07-23-14:00>>>\n",
      "2018-07-23-15:00>>>\n",
      "2018-07-23-16:00>>>\n",
      "2018-07-23-17:00>>>\n",
      "2018-07-23-18:00>>>\n",
      "2018-07-23-19:00>>>\n",
      "2018-07-23-20:00>>>\n",
      "2018-07-23-21:00>>>\n",
      "2018-07-23-22:00>>>\n",
      "2018-07-23-23:00>>>\n"
     ]
    }
   ],
   "source": [
    "dt_txt = ['2018-07-21-','2018-07-22-','2018-07-23-'] #ฝนรายชั่วโมงในวันที่ต้องการ\n",
    "#dt_txt = ['2018-07-21-'] #ฝนรายชั่วโมงในวันที่ต้องการ\n",
    "hr_txt = rain_subset['time'].unique()\n",
    "\n",
    "out_rain_hr_path = '../2results/0rain_haii_hour_test/gauge_21_23Jul2018/' #สร้างโฟลเดอร์นี้ก่อน\n",
    "\n",
    "for d in dt_txt:\n",
    "    #print\n",
    "    for h in hr_txt:\n",
    "        dh=d+h\n",
    "        dt=datetime.strptime(dh, '%Y-%m-%d-%H:%M')\n",
    "        print(dh+'>>>')\n",
    "        rain_ =rain_subset[rain_subset['full_date']==str(dh)]\n",
    "        \n",
    "        # qc 3 ค่า >> nan '-' -999.0\n",
    "        df_rain_pl=rain_.merge(df_filter,left_on='station', right_on='code')        \n",
    "        df_ = df_rain_pl.drop(df_rain_pl[df_rain_pl['rain'] == '-'].index)\n",
    "        df_ = df_.drop(df_[df_['rain'] == -999.0].index)\n",
    "        df_ = df_.dropna().reset_index(drop=True)              \n",
    "        \n",
    "        #ส่งออกฝนรายชั่วโมง csv\n",
    "        file_hr = dt.strftime('%Y')+dt.strftime('%m')+dt.strftime('%d')+dt.strftime('%H')+'.csv'\n",
    "        df_.to_csv(out_rain_hr_path + file_hr, encoding=\"TIS-620\")\n"
   ]
  },
  {
   "cell_type": "code",
   "execution_count": 9,
   "id": "8147e0d4-fbb0-408c-b721-6d8e5e3f6b1c",
   "metadata": {},
   "outputs": [],
   "source": [
    "# ตรวจสอบโฟลเดอร์ที่เก็บไฟล์ csv ที่สร้างไว้\n"
   ]
  },
  {
   "cell_type": "code",
   "execution_count": null,
   "id": "58fba1c8-070a-42a9-b511-3d7d5c5cd24e",
   "metadata": {},
   "outputs": [],
   "source": []
  }
 ],
 "metadata": {
  "kernelspec": {
   "display_name": "Python 3 (ipykernel)",
   "language": "python",
   "name": "python3"
  },
  "language_info": {
   "codemirror_mode": {
    "name": "ipython",
    "version": 3
   },
   "file_extension": ".py",
   "mimetype": "text/x-python",
   "name": "python",
   "nbconvert_exporter": "python",
   "pygments_lexer": "ipython3",
   "version": "3.10.6"
  }
 },
 "nbformat": 4,
 "nbformat_minor": 5
}
