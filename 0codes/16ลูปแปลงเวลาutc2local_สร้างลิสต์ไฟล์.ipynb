{
 "cells": [
  {
   "cell_type": "markdown",
   "id": "0f51d53e-e030-4e7f-aeae-3b5ab258b497",
   "metadata": {},
   "source": [
    "# โค้ดแปลงเวลา UTC2Local สร้างลิสต์ไฟล์สำหรับนำไปประมวลผลแบบ batch"
   ]
  },
  {
   "cell_type": "code",
   "execution_count": 1,
   "id": "44d59365-28fa-45ae-b926-4050fdb94e5f",
   "metadata": {},
   "outputs": [
    {
     "data": {
      "text/plain": [
       "'\\n2024/01/09 \\nพัฒนาโค้ดโดย รศ.ดร.นัฐพล มหาวิค \\nemail:nattaponm@nu.ac.th \\nยูทูป:https://www.youtube.com/@Nattapon_Mahavik/playlists \\nหนังสือ: เรดาร์ตรวจอากาศทางอุตุนิยมวิทยา https://www.chulabook.com/education/144567\\nGithub: https://github.com/nattaponm\\nScopus: https://www.scopus.com/authid/detail.uri?authorId=55583236600\\n'"
      ]
     },
     "execution_count": 1,
     "metadata": {},
     "output_type": "execute_result"
    }
   ],
   "source": [
    "'''\n",
    "2024/01/09 \n",
    "พัฒนาโค้ดโดย รศ.ดร.นัฐพล มหาวิค \n",
    "email:nattaponm@nu.ac.th \n",
    "ยูทูป:https://www.youtube.com/@Nattapon_Mahavik/playlists \n",
    "หนังสือ: เรดาร์ตรวจอากาศทางอุตุนิยมวิทยา https://www.chulabook.com/education/144567\n",
    "Github: https://github.com/nattaponm\n",
    "Scopus: https://www.scopus.com/authid/detail.uri?authorId=55583236600\n",
    "'''"
   ]
  },
  {
   "cell_type": "code",
   "execution_count": 2,
   "id": "f8a44107-03ac-49c0-9a7a-d20c8b2a50dd",
   "metadata": {},
   "outputs": [
    {
     "name": "stdout",
     "output_type": "stream",
     "text": [
      "\n",
      "## You are using the Python ARM Radar Toolkit (Py-ART), an open source\n",
      "## library for working with weather radar data. Py-ART is partly\n",
      "## supported by the U.S. Department of Energy as part of the Atmospheric\n",
      "## Radiation Measurement (ARM) Climate Research Facility, an Office of\n",
      "## Science user facility.\n",
      "##\n",
      "## If you use this software to prepare a publication, please cite:\n",
      "##\n",
      "##     JJ Helmus and SM Collis, JORS 2016, doi: 10.5334/jors.119\n",
      "\n"
     ]
    },
    {
     "name": "stderr",
     "output_type": "stream",
     "text": [
      "<frozen importlib._bootstrap>:283: DeprecationWarning: the load_module() method is deprecated and slated for removal in Python 3.12; use exec_module() instead\n"
     ]
    }
   ],
   "source": [
    "import numpy as np\n",
    "import matplotlib.pyplot as pl\n",
    "import pyart"
   ]
  },
  {
   "cell_type": "code",
   "execution_count": 3,
   "id": "d157c28c-1bde-4ae8-94ff-683c69dc9e51",
   "metadata": {},
   "outputs": [
    {
     "name": "stdout",
     "output_type": "stream",
     "text": [
      "dict_keys(['reflectivity', 'velocity', 'spectrum_width', 'corrected_reflectivity', 'corrected_differential_reflectivity', 'differential_phase', 'cross_correlation_ratio'])\n"
     ]
    }
   ],
   "source": [
    "radar = pyart.io.read('../1data/0radar/1radar_tmd/PHS240@201807201000.uf.bz2') #พิษณุโลก\n",
    "print(radar.fields.keys())"
   ]
  },
  {
   "cell_type": "markdown",
   "id": "8e6fb807-d982-4a02-b708-dd33f625c681",
   "metadata": {},
   "source": [
    "# ตรวจสอบเวลาของไฟล์"
   ]
  },
  {
   "cell_type": "code",
   "execution_count": 4,
   "id": "c53eb7c0-3d25-415f-8268-5c742779cbf5",
   "metadata": {},
   "outputs": [
    {
     "name": "stdout",
     "output_type": "stream",
     "text": [
      "2018-07-20T10:00:03Z\n"
     ]
    }
   ],
   "source": [
    "time_rad=radar.time['units'][14:]\n",
    "print(time_rad)"
   ]
  },
  {
   "cell_type": "markdown",
   "id": "97d9a18f-835d-4ef3-89e9-6cf030bb78bd",
   "metadata": {},
   "source": [
    "## ตรวจสอบเวลา local / UTC\n",
    "* https://dev.to/behainguyen/python-local-date-time-and-utc-date-time-4cl7#:~:text=astimezone(tz%3DNone).&text=We%20can%20see%20that%20datetime,the%20original%20UTC%20offset%20value."
   ]
  },
  {
   "cell_type": "code",
   "execution_count": 5,
   "id": "943ef333-9e34-41bd-b4a6-a63607ea11a4",
   "metadata": {},
   "outputs": [
    {
     "name": "stdout",
     "output_type": "stream",
     "text": [
      "Time Zone:  ('SE Asia Standard Time', 'SE Asia Daylight Time')\n",
      "Time Zone:  SE Asia Standard Time\n",
      "Date and Time Zone:  2024-01-09 19:03:40 SE Asia Standard Time\n",
      "UTC Offset:  +0700\n"
     ]
    }
   ],
   "source": [
    "import time\n",
    "\n",
    "local_time = time.localtime()\n",
    "\n",
    "print(\"Time Zone: \", time.tzname)\n",
    "print(\"Time Zone: \", time.strftime(\"%Z\", local_time))\n",
    "print(\"Date and Time Zone: \", time.strftime(\"%Y-%m-%d %H:%M:%S %Z\", local_time) )\n",
    "print(\"UTC Offset: \", time.strftime(\"%z\", local_time))"
   ]
  },
  {
   "cell_type": "markdown",
   "id": "33bd638b-38b6-4df0-a66e-9afb62883c49",
   "metadata": {},
   "source": [
    "## การเปลี่ยน utc ไปเป็น local time\n",
    "* โค้ด https://stackoverflow.com/questions/4770297/convert-utc-datetime-string-to-local-datetime"
   ]
  },
  {
   "cell_type": "code",
   "execution_count": 6,
   "id": "e3f645c4-aab1-4d40-8db6-31f3c4495d4c",
   "metadata": {},
   "outputs": [
    {
     "name": "stdout",
     "output_type": "stream",
     "text": [
      "utc:  2018-07-20 10:00:03+00:00\n",
      "lst:  2018-07-20 17:00:03+07:00\n"
     ]
    }
   ],
   "source": [
    "# แปลงเวลา utc2local https://stackoverflow.com/questions/4770297/convert-utc-datetime-string-to-local-datetime\n",
    "from datetime import datetime\n",
    "from dateutil import tz\n",
    "\n",
    "#Auto-detect zones:\n",
    "from_zone = tz.tzutc()\n",
    "to_zone = tz.tzlocal()\n",
    "\n",
    "utc = datetime.strptime(time_rad, \"%Y-%m-%dT%H:%M:%SZ\")\n",
    "utc = utc.replace(tzinfo=from_zone)\n",
    "\n",
    "# Convert time zone\n",
    "lst = utc.astimezone(to_zone)\n",
    "print('utc: ', utc)\n",
    "print('lst: ', lst)"
   ]
  },
  {
   "cell_type": "code",
   "execution_count": 7,
   "id": "e6d9c5cf-5b27-4019-912c-93b59726894b",
   "metadata": {},
   "outputs": [
    {
     "name": "stdout",
     "output_type": "stream",
     "text": [
      "2018072017\n"
     ]
    }
   ],
   "source": [
    "time_rad_lst = lst.strftime('%Y%m%d%H')\n",
    "print(time_rad_lst)"
   ]
  },
  {
   "cell_type": "markdown",
   "id": "e560c17e-5589-4eae-ab9a-e74c64eb4d9b",
   "metadata": {},
   "source": [
    "## การทำลิสต์ชื่อไฟล์ราย 15 นาที ให้เป็นรายชั่วโมง"
   ]
  },
  {
   "cell_type": "code",
   "execution_count": 8,
   "id": "1fd683f8-7a51-47e9-bdaf-da11652f3b9a",
   "metadata": {},
   "outputs": [],
   "source": [
    "# ลูปไฟล์ uf ทั้งหมดในโฟลเดอร์ > แปลงเวลา utc2local ราย 15 นาที > แอดเวลา local เข้าไปใน list \n",
    "# > แล้วลดเวลา 15 นาที ให้เหลือเวลาเฉพาะ 1 ชั่วโมง\n"
   ]
  },
  {
   "cell_type": "code",
   "execution_count": 9,
   "id": "93cf870d-f06f-418b-a9d0-19950da9435b",
   "metadata": {},
   "outputs": [
    {
     "name": "stdout",
     "output_type": "stream",
     "text": [
      "['PHS240@201807201000.uf.bz2', 'PHS240@201807201030.uf.bz2', 'PHS240@201807201045.uf.bz2', 'PHS240@201807201100.uf.bz2', 'PHS240@201807201115.uf.bz2', 'PHS240@201807201130.uf.bz2', 'PHS240@201807201145.uf.bz2']\n"
     ]
    }
   ],
   "source": [
    "import os\n",
    "dir_path = '../1data/0radar/1radar_tmd/'\n",
    "\n",
    "#สร้างลิสต์ชื่อไฟล์ทุกไฟล์ที่มีในโฟลเดอร์นั้น ๆ \n",
    "fn_all = []\n",
    "for file in os.listdir(dir_path):\n",
    "    if file.endswith('.bz2'):\n",
    "        fn_all.append(file)\n",
    "print(fn_all)\n"
   ]
  },
  {
   "cell_type": "code",
   "execution_count": 10,
   "id": "94197853-e9cb-41c3-ad5f-38a36cbb9b9e",
   "metadata": {},
   "outputs": [
    {
     "name": "stdout",
     "output_type": "stream",
     "text": [
      "['2018072010', '2018072011']\n"
     ]
    }
   ],
   "source": [
    "#สร้างลิสต์ชื่อไฟล์รายชั่วโมง\n",
    "fn_hr=[]\n",
    "for file in fn_all:\n",
    "    fn_hr.append(file[7:-9])\n",
    "    #print(file[3:-7])\n",
    "\n",
    "fn_hr=list(np.unique(fn_hr)) # ชื่อไฟล์ในแต่ละชั่วโมง\n",
    "print(fn_hr)"
   ]
  },
  {
   "cell_type": "code",
   "execution_count": 11,
   "id": "57d819ae-6343-45a1-99d5-20ab10530bbe",
   "metadata": {},
   "outputs": [
    {
     "name": "stdout",
     "output_type": "stream",
     "text": [
      "utc:  2018-07-20 10:00:00+00:00\n",
      "lst:  2018-07-20 17:00:00+07:00\n",
      "2018072017\n",
      "utc:  2018-07-20 11:00:00+00:00\n",
      "lst:  2018-07-20 18:00:00+07:00\n",
      "2018072018\n"
     ]
    }
   ],
   "source": [
    "#เปลี่ยน UTC ไปเป็น Local ชื่อไฟล์รายชั่วโมง\n",
    "from datetime import datetime\n",
    "from dateutil import tz\n",
    "\n",
    "\n",
    "def utc2local_hr(time_rad):\n",
    "    from_zone = tz.tzutc()\n",
    "    to_zone = tz.tzlocal()\n",
    "\n",
    "    utc = datetime.strptime(time_rad, \"%Y%m%d%H\")\n",
    "    utc = utc.replace(tzinfo=from_zone)\n",
    "\n",
    "    # Convert time zone\n",
    "    lst = utc.astimezone(to_zone)\n",
    "    print('utc: ', utc)\n",
    "    print('lst: ', lst)\n",
    "    return lst\n",
    "\n",
    "#ลูปชื่อไฟล์รายชั่วโมงในลิสต์ เพื่อจะ get ค่าไฟล์เรดาร์ในชั่วโมงดังกล่าว จะใช้ลิสต์ชื่อไฟล์นี้นี้ในการเซฟเป็นส่วนหนึ่งของชื่อไฟล์\n",
    "for file in fn_hr:\n",
    "    print(utc2local_hr(file).strftime('%Y%m%d%H'))"
   ]
  },
  {
   "cell_type": "markdown",
   "id": "e5063e96-7a60-4a16-b1fa-b8a8b83effc6",
   "metadata": {},
   "source": [
    "# วางแผนลูปในการประมวลผลแบบ batch เพื่อสร้าง cappi/ppi แต่ละระดับและมุมยก"
   ]
  },
  {
   "cell_type": "code",
   "execution_count": 12,
   "id": "01c97e84-6907-44f8-ab7a-725a77838f32",
   "metadata": {},
   "outputs": [
    {
     "name": "stdout",
     "output_type": "stream",
     "text": [
      "substring file UTC time in hourly:  2018072010\n",
      "file names  UTC time in 15 min:  ['PHS240@201807201000.uf.bz2', 'PHS240@201807201030.uf.bz2', 'PHS240@201807201045.uf.bz2']\n",
      "do convert UTC to Local time, create file names according to features\n",
      "doing ... PHS240@201807201000.uf.bz2\n",
      "do processing SNR, Attenuation Correction, Gridding, Cappi/PPI\n",
      "doing ... PHS240@201807201030.uf.bz2\n",
      "do processing SNR, Attenuation Correction, Gridding, Cappi/PPI\n",
      "doing ... PHS240@201807201045.uf.bz2\n",
      "do processing SNR, Attenuation Correction, Gridding, Cappi/PPI\n",
      "substring file UTC time in hourly:  2018072011\n",
      "file names  UTC time in 15 min:  ['PHS240@201807201100.uf.bz2', 'PHS240@201807201115.uf.bz2', 'PHS240@201807201130.uf.bz2', 'PHS240@201807201145.uf.bz2']\n",
      "do convert UTC to Local time, create file names according to features\n",
      "doing ... PHS240@201807201100.uf.bz2\n",
      "do processing SNR, Attenuation Correction, Gridding, Cappi/PPI\n",
      "doing ... PHS240@201807201115.uf.bz2\n",
      "do processing SNR, Attenuation Correction, Gridding, Cappi/PPI\n",
      "doing ... PHS240@201807201130.uf.bz2\n",
      "do processing SNR, Attenuation Correction, Gridding, Cappi/PPI\n",
      "doing ... PHS240@201807201145.uf.bz2\n",
      "do processing SNR, Attenuation Correction, Gridding, Cappi/PPI\n"
     ]
    }
   ],
   "source": [
    "for sub_file_hr in fn_hr:\n",
    "    print('substring file UTC time in hourly: ', sub_file_hr)\n",
    "    files_15proc = [file for file in fn_all if sub_file_hr in file]\n",
    "    print('file names  UTC time in 15 min: ', files_15proc)\n",
    "    print('do convert UTC to Local time, create file names according to features')\n",
    "    for fn_ in files_15proc:\n",
    "        print('doing ...',fn_ )        \n",
    "        print('do processing SNR, Attenuation Correction, Gridding, Cappi/PPI')    \n",
    "    "
   ]
  },
  {
   "cell_type": "markdown",
   "id": "d9e52a1a-307f-4001-99a6-905b6ff3c9a1",
   "metadata": {},
   "source": [
    "# ให้ทดสอบ"
   ]
  },
  {
   "cell_type": "code",
   "execution_count": 13,
   "id": "af66c03e-3c10-47d2-af53-450ec7c605d1",
   "metadata": {},
   "outputs": [
    {
     "name": "stdout",
     "output_type": "stream",
     "text": [
      "['PHS240@201807201000.uf.bz2', 'PHS240@201807201030.uf.bz2', 'PHS240@201807201045.uf.bz2', 'PHS240@201807201100.uf.bz2', 'PHS240@201807201115.uf.bz2', 'PHS240@201807201130.uf.bz2', 'PHS240@201807201145.uf.bz2']\n",
      "['2018072010', '2018072011']\n"
     ]
    }
   ],
   "source": [
    "#*... ให้ทำความเข้าใจกับการสร้างลิสต์รายชั่วโมง/ลิสต์15นาที\n",
    "#สร้างลิสต์ชื่อไฟล์ทุกไฟล์ที่มีในโฟลเดอร์นั้น ๆ \n",
    "fn_all = []\n",
    "for file in os.listdir(dir_path):\n",
    "    if file.endswith('.bz2'):\n",
    "        fn_all.append(file)\n",
    "print(fn_all)\n",
    "\n",
    "#และ \n",
    "#สร้างลิสต์ชื่อไฟล์รายชั่วโมง\n",
    "fn_hr=[]\n",
    "for file in fn_all:\n",
    "    fn_hr.append(file[7:-9])\n",
    "    #print(file[3:-7])\n",
    "\n",
    "fn_hr=list(np.unique(fn_hr)) # ชื่อไฟล์ในแต่ละชั่วโมง\n",
    "print(fn_hr)\n"
   ]
  },
  {
   "cell_type": "code",
   "execution_count": null,
   "id": "e3584131-5df0-45c7-8bb4-27445ef01471",
   "metadata": {},
   "outputs": [],
   "source": []
  }
 ],
 "metadata": {
  "kernelspec": {
   "display_name": "Python 3 (ipykernel)",
   "language": "python",
   "name": "python3"
  },
  "language_info": {
   "codemirror_mode": {
    "name": "ipython",
    "version": 3
   },
   "file_extension": ".py",
   "mimetype": "text/x-python",
   "name": "python",
   "nbconvert_exporter": "python",
   "pygments_lexer": "ipython3",
   "version": "3.10.6"
  }
 },
 "nbformat": 4,
 "nbformat_minor": 5
}
